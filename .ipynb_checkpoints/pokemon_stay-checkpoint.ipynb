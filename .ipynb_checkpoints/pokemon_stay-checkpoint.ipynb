{
 "cells": [
  {
   "cell_type": "markdown",
   "metadata": {},
   "source": [
    "<img src=\"http://imgur.com/1ZcRyrc.png\" style=\"float: left; margin: 15px; height: 80px\">\n",
    "\n",
    "# Project 1\n",
    "\n",
    "### Building \"Pokemon Stay\"\n",
    "\n",
    "---\n",
    "You are an analyst at a \"scrappy\" online gaming company that specializes in remakes of last year's fads.\n",
    "\n",
    "Your boss, who runs the product development team, is convinced that Pokemon Go's fatal flaw was that you had to actually move around outside. She has design mock-ups for a new game called Pokemon Stay: in this version players still need to move, but just from website to website. Pokemon gyms are now popular online destinations, and catching Pokemon in the \"wild\" simply requires browsing the internet for hours in the comfort of your home.\n",
    "\n",
    "She wants you to program a prototype version of the game and analyze the planned content to help the team calibrate the design."
   ]
  },
  {
   "cell_type": "markdown",
   "metadata": {
    "toc": true
   },
   "source": [
    "<h1>Table of Contents<span class=\"tocSkip\"></span></h1>\n",
    "<div class=\"toc\"><ul class=\"toc-item\"><li><ul class=\"toc-item\"><li><span><a href=\"#Building-&quot;Pokemon-Stay&quot;\" data-toc-modified-id=\"Building-&quot;Pokemon-Stay&quot;-0.1\">Building \"Pokemon Stay\"</a></span><ul class=\"toc-item\"><li><span><a href=\"#Package-imports\" data-toc-modified-id=\"Package-imports-0.1.1\">Package imports</a></span></li></ul></li></ul></li><li><span><a href=\"#1.-Defining-a-player\" data-toc-modified-id=\"1.-Defining-a-player-1\">1. Defining a player</a></span></li><li><span><a href=\"#2.-Defining-&quot;gym&quot;-locations\" data-toc-modified-id=\"2.-Defining-&quot;gym&quot;-locations-2\">2. Defining \"gym\" locations</a></span></li><li><span><a href=\"#3.-Create-a-pokedex\" data-toc-modified-id=\"3.-Create-a-pokedex-3\">3. Create a pokedex</a></span></li><li><span><a href=\"#4.-Create-a-data-structure-for-players\" data-toc-modified-id=\"4.-Create-a-data-structure-for-players-4\">4. Create a data structure for players</a></span><ul class=\"toc-item\"><li><span><a href=\"#4.1\" data-toc-modified-id=\"4.1-4.1\">4.1</a></span></li><li><span><a href=\"#4.2\" data-toc-modified-id=\"4.2-4.2\">4.2</a></span></li></ul></li><li><span><a href=\"#5.-Add-captured-pokemon-for-each-player\" data-toc-modified-id=\"5.-Add-captured-pokemon-for-each-player-5\">5. Add captured pokemon for each player</a></span></li><li><span><a href=\"#6.-What-gyms-have-players-visited?\" data-toc-modified-id=\"6.-What-gyms-have-players-visited?-6\">6. What gyms have players visited?</a></span><ul class=\"toc-item\"><li><span><a href=\"#6.1\" data-toc-modified-id=\"6.1-6.1\">6.1</a></span></li><li><span><a href=\"#6.2\" data-toc-modified-id=\"6.2-6.2\">6.2</a></span></li></ul></li><li><span><a href=\"#7.-Calculate-player-&quot;power&quot;.\" data-toc-modified-id=\"7.-Calculate-player-&quot;power&quot;.-7\">7. Calculate player \"power\".</a></span></li><li><span><a href=\"#8.-Load-a-pokedex-file-containing-all-the-pokemon\" data-toc-modified-id=\"8.-Load-a-pokedex-file-containing-all-the-pokemon-8\">8. Load a pokedex file containing all the pokemon</a></span><ul class=\"toc-item\"><li><span><a href=\"#8.1\" data-toc-modified-id=\"8.1-8.1\">8.1</a></span></li><li><span><a href=\"#8.2-Parse-the-raw-pokedex-with-list-comprehensions\" data-toc-modified-id=\"8.2-Parse-the-raw-pokedex-with-list-comprehensions-8.2\">8.2 Parse the raw pokedex with list comprehensions</a></span></li></ul></li><li><span><a href=\"#9.-Write-a-function-to-generate-the-full-pokedex\" data-toc-modified-id=\"9.-Write-a-function-to-generate-the-full-pokedex-9\">9. Write a function to generate the full pokedex</a></span></li><li><span><a href=\"#10.-Write-a-function-to-generate-a-&quot;filtered&quot;-pokedex\" data-toc-modified-id=\"10.-Write-a-function-to-generate-a-&quot;filtered&quot;-pokedex-10\">10. Write a function to generate a \"filtered\" pokedex</a></span></li><li><span><a href=\"#11.-Descriptive-statistics-on-the-prototype-pokedex\" data-toc-modified-id=\"11.-Descriptive-statistics-on-the-prototype-pokedex-11\">11. Descriptive statistics on the prototype pokedex</a></span><ul class=\"toc-item\"><li><span><a href=\"#11.1\" data-toc-modified-id=\"11.1-11.1\">11.1</a></span></li><li><span><a href=\"#11.2\" data-toc-modified-id=\"11.2-11.2\">11.2</a></span></li></ul></li><li><span><a href=\"#12.-Calibrate-the-frequency-of-Pokemon\" data-toc-modified-id=\"12.-Calibrate-the-frequency-of-Pokemon-12\">12. Calibrate the frequency of Pokemon</a></span></li></ul></div>"
   ]
  },
  {
   "cell_type": "markdown",
   "metadata": {},
   "source": [
    "#### Package imports\n",
    "\n",
    "The pprint package below is the only package imported here, and it's not even strictly required to do any of the project. Printing python variables and objects with pprint can help to format them in a \"prettier\" way."
   ]
  },
  {
   "cell_type": "code",
   "execution_count": 1,
   "metadata": {},
   "outputs": [],
   "source": [
    "from pprint import pprint\n",
    "import numpy as np\n",
    "import scipy.stats as st"
   ]
  },
  {
   "cell_type": "markdown",
   "metadata": {},
   "source": [
    "<img src=\"http://imgur.com/l5NasQj.png\" style=\"float: left; margin: 25px 15px 0px 0px; height: 25px\">\n",
    "\n",
    "## 1. Defining a player\n",
    "\n",
    "---\n",
    "\n",
    "The player variables are:\n",
    "\n",
    "    player_id : id code unique to each player (integer)\n",
    "    player_name : entered name of the player (string)\n",
    "    time_played : number of times played the game in minutes (float)\n",
    "    player_pokemon: the player's captured pokemon (dictionary)\n",
    "    gyms_visited: ids of the gyms that a player has visited (list)\n",
    "    \n",
    "Create the components for a player object by defining each of these variables. The dictionary and list variables should just be defined as empty; you can use any (correctly typed) values for the others."
   ]
  },
  {
   "cell_type": "code",
   "execution_count": 2,
   "metadata": {},
   "outputs": [
    {
     "name": "stdout",
     "output_type": "stream",
     "text": [
      "{'gyms_visited': [],\n",
      " 'player_id': 1,\n",
      " 'player_name': 'Marc',\n",
      " 'player_pokemon': {},\n",
      " 'time_played': 5.0}\n"
     ]
    }
   ],
   "source": [
    "player_1 = {\n",
    "    'player_id' : 1, \n",
    "    'player_name' : 'Marc',\n",
    "    'time_played' : 5.0,\n",
    "    'player_pokemon' : {},\n",
    "    'gyms_visited' : [],\n",
    "    }\n",
    "pprint(player_1)"
   ]
  },
  {
   "cell_type": "markdown",
   "metadata": {},
   "source": [
    "<img src=\"http://imgur.com/l5NasQj.png\" style=\"float: left; margin: 25px 15px 0px 0px; height: 25px\">\n",
    "\n",
    "## 2. Defining \"gym\" locations\n",
    "\n",
    "---\n",
    "\n",
    "As the sole programmer, Pokemon Stay will have to start small. To begin, there will be 10 different gym location websites on the internet. The gym locations are:\n",
    "\n",
    "    1. 'reddit.com'\n",
    "    2. 'amazon.com'\n",
    "    3. 'twitter.com'\n",
    "    4. 'linkedin.com'\n",
    "    5. 'ebay.com'\n",
    "    6. 'netflix.com'\n",
    "    7. 'sporcle.com'\n",
    "    8. 'stackoverflow.com'\n",
    "    9. 'github.com'\n",
    "    10. 'quora.com'\n",
    "\n",
    "1. Set up a list of all the gym locations. This will be a list of strings.\n",
    "2. Append two of these locations to your player's list of visited gyms.\n",
    "3. Print the list."
   ]
  },
  {
   "cell_type": "code",
   "execution_count": 3,
   "metadata": {
    "tags": []
   },
   "outputs": [],
   "source": [
    "#1\n",
    "gyms = ['reddit.com', 'amazon.com', 'twitter.com', 'linkedin.com', 'ebay.com', 'netflix.com', 'sporcle.com', 'stackoverflow.com', 'github.com', 'quora.com']"
   ]
  },
  {
   "cell_type": "code",
   "execution_count": 4,
   "metadata": {},
   "outputs": [
    {
     "name": "stdout",
     "output_type": "stream",
     "text": [
      "['reddit.com',\n",
      " 'amazon.com',\n",
      " 'twitter.com',\n",
      " 'linkedin.com',\n",
      " 'ebay.com',\n",
      " 'netflix.com',\n",
      " 'sporcle.com',\n",
      " 'stackoverflow.com',\n",
      " 'github.com',\n",
      " 'quora.com']\n"
     ]
    }
   ],
   "source": [
    "pprint(gyms)"
   ]
  },
  {
   "cell_type": "code",
   "execution_count": 5,
   "metadata": {},
   "outputs": [],
   "source": [
    "#2\n",
    "player_1['gyms_visited'].extend(gyms[0:2])"
   ]
  },
  {
   "cell_type": "code",
   "execution_count": 6,
   "metadata": {},
   "outputs": [
    {
     "name": "stdout",
     "output_type": "stream",
     "text": [
      "{'gyms_visited': ['reddit.com', 'amazon.com'],\n",
      " 'player_id': 1,\n",
      " 'player_name': 'Marc',\n",
      " 'player_pokemon': {},\n",
      " 'time_played': 5.0}\n"
     ]
    }
   ],
   "source": [
    "#3\n",
    "pprint(player_1)"
   ]
  },
  {
   "cell_type": "markdown",
   "metadata": {
    "tags": []
   },
   "source": [
    "## 3. Create a pokedex\n",
    "\n",
    "---\n",
    "\n",
    "We also need to create some pokemon to catch. Each pokemon will be defined by these variables:\n",
    "\n",
    "    pokemon_id : unique identifier for each pokemon (integer)\n",
    "    name : the name of the pokemon (string)\n",
    "    type : the category of pokemon (string)\n",
    "    hp : base hitpoints (integer)\n",
    "    attack : base attack (integer)\n",
    "    defense : base defense (integer)\n",
    "    special_attack : base special attack (integer)\n",
    "    special_defense : base sepecial defense (integer)\n",
    "    speed : base speed (integer)\n",
    "\n",
    "We are only going to create 3 different pokemon with these `pokemon_id` and `pokemon_name` values:\n",
    "\n",
    "    1 : 'charmander'\n",
    "    2 : 'squirtle'\n",
    "    3 : 'bulbasaur'\n",
    "\n",
    "Create a dictionary that will contain the pokemon. The keys of the dictionary will be the `pokemon_id` and the values will themselves be dictionaries that contain the other pokemon variables. The structure of the pokedex dictionary will start like so:\n",
    "     \n",
    "     {\n",
    "         1: {\n",
    "                 'name':'charmander',\n",
    "                 'type':'fire',\n",
    "                 ...\n",
    "                 \n",
    "The `type` of charmander, squirtle, and bulbasaur should be `'fire'`, `'water'`, and `'poison'` respectively. The other values are up to you, make them anything you like!\n",
    "\n",
    "Print (or pretty print) the pokedex dictionary with the 3 pokemon."
   ]
  },
  {
   "cell_type": "code",
   "execution_count": 7,
   "metadata": {},
   "outputs": [
    {
     "name": "stdout",
     "output_type": "stream",
     "text": [
      "{1: {'attack': 52,\n",
      "     'defense': 43,\n",
      "     'hp': 39,\n",
      "     'pokemon_name': 'charmander',\n",
      "     'special_attack': 63,\n",
      "     'special_defense': 50,\n",
      "     'speed': 65,\n",
      "     'type': 'fire'},\n",
      " 2: {'attack': 48,\n",
      "     'defense': 65,\n",
      "     'hp': 44,\n",
      "     'pokemon_name': 'squirtle',\n",
      "     'special_attack': 50,\n",
      "     'special_defense': 64,\n",
      "     'speed': 43,\n",
      "     'type': 'water'},\n",
      " 3: {'attack': 49,\n",
      "     'defense': 49,\n",
      "     'hp': 60,\n",
      "     'pokemon_name': 'bulbasaur',\n",
      "     'special_attack': 65,\n",
      "     'special_defense': 65,\n",
      "     'speed': 45,\n",
      "     'type': 'GrassPoison'}}\n"
     ]
    }
   ],
   "source": [
    "pokedex = {\n",
    "    1: {\n",
    "    'pokemon_name' : 'charmander',\n",
    "    'type' : 'fire',\n",
    "    'hp' : 39,\n",
    "    'attack' : 52,\n",
    "    'defense' : 43,\n",
    "    'special_attack' : 63,\n",
    "    'special_defense' : 50,\n",
    "    'speed' : 65,\n",
    "    },\n",
    "    2: {'pokemon_name' : 'squirtle',\n",
    "    'type' : 'water',\n",
    "    'hp' : 44,\n",
    "    'attack' : 48,\n",
    "    'defense' : 65,\n",
    "    'special_attack' : 50,\n",
    "    'special_defense' : 64,\n",
    "    'speed' : 43,\n",
    "       },\n",
    "    3: {'pokemon_name' : 'bulbasaur',\n",
    "    'type' : 'GrassPoison',\n",
    "    'hp' : 60,\n",
    "    'attack' : 49,\n",
    "    'defense' : 49,\n",
    "    'special_attack' : 65,\n",
    "    'special_defense' : 65,\n",
    "    'speed' : 45,\n",
    "} \n",
    "}\n",
    "\n",
    "pprint(pokedex)"
   ]
  },
  {
   "cell_type": "markdown",
   "metadata": {},
   "source": [
    "<img src=\"http://imgur.com/l5NasQj.png\" style=\"float: left; margin: 25px 15px 0px 0px; height: 25px\">\n",
    "\n",
    "## 4. Create a data structure for players\n",
    "\n",
    "---\n",
    "\n",
    "### 4.1 \n",
    "\n",
    "In order to maintain a database of multiple players, create a dictionary that keeps track of players indexed by `player_id`. \n",
    "\n",
    "The keys of the dictionary will be `player_id` and the values will be dictionaries containing each player's variables (from question 1). \n",
    "\n",
    "Construct the `players` dictionary and insert the player that you defined in question 1, then print `players`."
   ]
  },
  {
   "cell_type": "code",
   "execution_count": 8,
   "metadata": {},
   "outputs": [
    {
     "name": "stdout",
     "output_type": "stream",
     "text": [
      "{1: {'gyms_visited': ['reddit.com', 'amazon.com'],\n",
      "     'player_id': 1,\n",
      "     'player_name': 'Marc',\n",
      "     'player_pokemon': {},\n",
      "     'time_played': 5.0}}\n"
     ]
    }
   ],
   "source": [
    "# Create empty dictionary for all players.\n",
    "players = {}\n",
    "\n",
    "# Add player_1 in players.\n",
    "players[player_1['player_id']] = player_1\n",
    "pprint(players)"
   ]
  },
  {
   "cell_type": "markdown",
   "metadata": {},
   "source": [
    "---\n",
    "\n",
    "### 4.2\n",
    "\n",
    "Create a new player with `player_id = 2` in the `players` dictionary. Leave the `'player_pokemon'` dictionary empty. Append `'stackoverflow'` and `'github.com'` to the `'gyms_visited'` list for player 2.\n",
    "\n",
    "The `'player_name'` and `'time_played'` values are up to you, but must be a string and float, respectively.\n",
    "\n",
    "Remember, the player_id is the key for the player in the players dictionary.\n",
    "\n",
    "Print the `players` dictionary with the new player inserted."
   ]
  },
  {
   "cell_type": "code",
   "execution_count": 9,
   "metadata": {},
   "outputs": [
    {
     "name": "stdout",
     "output_type": "stream",
     "text": [
      "{'gyms_visited': 'stackoverflow.com, github.com',\n",
      " 'player_id': 2,\n",
      " 'player_name': 'Dave',\n",
      " 'player_pokemon': {},\n",
      " 'time_played': 7.0}\n"
     ]
    }
   ],
   "source": [
    "# create player 2\n",
    "player_2 = {\n",
    "    'player_id': 2,\n",
    "    'player_name' : 'Dave',\n",
    "    'time_played' : 7.0,\n",
    "    'player_pokemon' : {},\n",
    "    'gyms_visited' : (gyms[7]) + ', ' +(gyms[8]) }\n",
    "pprint(player_2)"
   ]
  },
  {
   "cell_type": "code",
   "execution_count": 10,
   "metadata": {},
   "outputs": [
    {
     "name": "stdout",
     "output_type": "stream",
     "text": [
      "{1: {'gyms_visited': ['reddit.com', 'amazon.com'],\n",
      "     'player_id': 1,\n",
      "     'player_name': 'Marc',\n",
      "     'player_pokemon': {},\n",
      "     'time_played': 5.0},\n",
      " 2: {'gyms_visited': 'stackoverflow.com, github.com',\n",
      "     'player_id': 2,\n",
      "     'player_name': 'Dave',\n",
      "     'player_pokemon': {},\n",
      "     'time_played': 7.0}}\n"
     ]
    }
   ],
   "source": [
    "# Add player_2 in players.\n",
    "players[player_2['player_id']] = player_2\n",
    "pprint(players)"
   ]
  },
  {
   "cell_type": "code",
   "execution_count": 11,
   "metadata": {},
   "outputs": [],
   "source": [
    "# create player 3\n",
    "player_3 = {\n",
    "    'player_id': 3,\n",
    "    'player_name' : 'Rob',\n",
    "    'time_played' : 15.0,\n",
    "    'player_pokemon' : {},\n",
    "    'gyms_visited' : [] }"
   ]
  },
  {
   "cell_type": "code",
   "execution_count": 12,
   "metadata": {},
   "outputs": [],
   "source": [
    "# Add player_3 in players.\n",
    "players[player_3['player_id']] = player_3"
   ]
  },
  {
   "cell_type": "code",
   "execution_count": 13,
   "metadata": {},
   "outputs": [],
   "source": [
    "# Update player_3 gyms_visited\n",
    "players[3]['gyms_visited'].extend(gyms[5:7])"
   ]
  },
  {
   "cell_type": "code",
   "execution_count": 14,
   "metadata": {},
   "outputs": [
    {
     "name": "stdout",
     "output_type": "stream",
     "text": [
      "{'gyms_visited': ['netflix.com', 'sporcle.com'],\n",
      " 'player_id': 3,\n",
      " 'player_name': 'Rob',\n",
      " 'player_pokemon': {},\n",
      " 'time_played': 15.0}\n"
     ]
    }
   ],
   "source": [
    "pprint(player_3)"
   ]
  },
  {
   "cell_type": "code",
   "execution_count": 15,
   "metadata": {},
   "outputs": [
    {
     "name": "stdout",
     "output_type": "stream",
     "text": [
      "{1: {'gyms_visited': ['reddit.com', 'amazon.com'],\n",
      "     'player_id': 1,\n",
      "     'player_name': 'Marc',\n",
      "     'player_pokemon': {},\n",
      "     'time_played': 5.0},\n",
      " 2: {'gyms_visited': 'stackoverflow.com, github.com',\n",
      "     'player_id': 2,\n",
      "     'player_name': 'Dave',\n",
      "     'player_pokemon': {},\n",
      "     'time_played': 7.0},\n",
      " 3: {'gyms_visited': ['netflix.com', 'sporcle.com'],\n",
      "     'player_id': 3,\n",
      "     'player_name': 'Rob',\n",
      "     'player_pokemon': {},\n",
      "     'time_played': 15.0}}\n"
     ]
    }
   ],
   "source": [
    "pprint(players)"
   ]
  },
  {
   "cell_type": "markdown",
   "metadata": {},
   "source": [
    "<img src=\"http://imgur.com/l5NasQj.png\" style=\"float: left; margin: 25px 15px 0px 0px; height: 25px\">\n",
    "\n",
    "## 5. Add captured pokemon for each player\n",
    "\n",
    "---\n",
    "\n",
    "The `'player_pokemon'` keyed dictionaries for each player keep track of which of the pokemon each player has.\n",
    "\n",
    "The keys of the `'player_pokemon'` dictionaries are the pokemon ids that correspond to the ids in the `pokedex` dictionary you created earlier. The values are integers specifying the stats for the pokemon.\n",
    "\n",
    "Give player 1 a squirtle. Give player 2 a charmander and a bulbasaur.\n",
    "\n",
    "Print the players dictionary after adding the pokemon for each player.\n"
   ]
  },
  {
   "cell_type": "code",
   "execution_count": 16,
   "metadata": {},
   "outputs": [],
   "source": [
    "# Give pokemon to players\n",
    "players[1]['player_pokemon'][2] = pokedex[2]\n",
    "players[2]['player_pokemon'][1] = pokedex[3]\n",
    "players[3]['player_pokemon'][3] = pokedex[1]"
   ]
  },
  {
   "cell_type": "code",
   "execution_count": 17,
   "metadata": {},
   "outputs": [
    {
     "name": "stdout",
     "output_type": "stream",
     "text": [
      "{1: {'gyms_visited': ['reddit.com', 'amazon.com'],\n",
      "     'player_id': 1,\n",
      "     'player_name': 'Marc',\n",
      "     'player_pokemon': {2: {'attack': 48,\n",
      "                            'defense': 65,\n",
      "                            'hp': 44,\n",
      "                            'pokemon_name': 'squirtle',\n",
      "                            'special_attack': 50,\n",
      "                            'special_defense': 64,\n",
      "                            'speed': 43,\n",
      "                            'type': 'water'}},\n",
      "     'time_played': 5.0},\n",
      " 2: {'gyms_visited': 'stackoverflow.com, github.com',\n",
      "     'player_id': 2,\n",
      "     'player_name': 'Dave',\n",
      "     'player_pokemon': {1: {'attack': 49,\n",
      "                            'defense': 49,\n",
      "                            'hp': 60,\n",
      "                            'pokemon_name': 'bulbasaur',\n",
      "                            'special_attack': 65,\n",
      "                            'special_defense': 65,\n",
      "                            'speed': 45,\n",
      "                            'type': 'GrassPoison'}},\n",
      "     'time_played': 7.0},\n",
      " 3: {'gyms_visited': ['netflix.com', 'sporcle.com'],\n",
      "     'player_id': 3,\n",
      "     'player_name': 'Rob',\n",
      "     'player_pokemon': {3: {'attack': 52,\n",
      "                            'defense': 43,\n",
      "                            'hp': 39,\n",
      "                            'pokemon_name': 'charmander',\n",
      "                            'special_attack': 63,\n",
      "                            'special_defense': 50,\n",
      "                            'speed': 65,\n",
      "                            'type': 'fire'}},\n",
      "     'time_played': 15.0}}\n"
     ]
    }
   ],
   "source": [
    "pprint(players)"
   ]
  },
  {
   "cell_type": "markdown",
   "metadata": {},
   "source": [
    "## 6. What gyms have players visited?\n",
    "\n",
    "---"
   ]
  },
  {
   "cell_type": "markdown",
   "metadata": {},
   "source": [
    "<img src=\"http://imgur.com/l5NasQj.png\" style=\"float: left; margin: 25px 15px 0px 0px; height: 25px\">\n",
    "\n",
    "### 6.1\n",
    "\n",
    "Write a for-loop that:\n",
    "\n",
    "1. Iterates through the `pokemon_gyms` list of gym locations you defined before.\n",
    "2. For each gym, iterate through each player in the `players` dictionary with a second, internal for-loop.\n",
    "3. If the player has visited the gym, print out \"[player] has visited [gym location].\", filling in [player] and [gym location] with the current player's name and current gym location."
   ]
  },
  {
   "cell_type": "code",
   "execution_count": 18,
   "metadata": {},
   "outputs": [
    {
     "name": "stdout",
     "output_type": "stream",
     "text": [
      "Marc has visited reddit.com.\n",
      "Marc has visited amazon.com.\n",
      "Rob has visited netflix.com.\n",
      "Rob has visited sporcle.com.\n",
      "Dave has visited stackoverflow.com.\n",
      "Dave has visited github.com.\n"
     ]
    }
   ],
   "source": [
    "for gym in gyms:\n",
    "    for player, player_dict in list(players.items()):\n",
    "        if gym in player_dict['gyms_visited']:\n",
    "            print(player_dict['player_name']+' has visited '+gym+'.')"
   ]
  },
  {
   "cell_type": "markdown",
   "metadata": {},
   "source": [
    "<img src=\"http://imgur.com/xDpSobf.png\" style=\"float: left; margin: 25px 15px 0px 0px; height: 25px\">\n",
    "\n",
    "### 6.2\n",
    "\n",
    "How many times did that loop run? If you have N gyms and also N players, how many times would it run as a function of N?\n",
    "\n",
    "Can you think of a more efficient way to accomplish the same thing? \n",
    "\n",
    "(You can write your answer as Markdown text.)"
   ]
  },
  {
   "cell_type": "code",
   "execution_count": 19,
   "metadata": {},
   "outputs": [
    {
     "data": {
      "text/plain": [
       "30"
      ]
     },
     "execution_count": 19,
     "metadata": {},
     "output_type": "execute_result"
    }
   ],
   "source": [
    "# Number of time 6.1 loop has run\n",
    "count = 1\n",
    "counter = [ count for gym in gyms for player, player_dict in players.items()]\n",
    "sum(counter)"
   ]
  },
  {
   "cell_type": "markdown",
   "metadata": {},
   "source": [
    "6.1 has run 30 times"
   ]
  },
  {
   "cell_type": "markdown",
   "metadata": {},
   "source": [
    "<img src=\"http://imgur.com/l5NasQj.png\" style=\"float: left; margin: 25px 15px 0px 0px; height: 25px\">\n",
    "\n",
    "## 7. Calculate player \"power\".\n",
    "\n",
    "---\n",
    "\n",
    "Define a function that will calculate a player's \"power\". Player power is defined as the sum of the base statistics of all their pokemon.\n",
    "\n",
    "Your function will:\n",
    "\n",
    "1. Accept the `players` dictionary, `pokedex` dictionary, and a player_id as arguments.\n",
    "2. For the specified player_id, look up that player's pokemon and their level(s).\n",
    "3. Find and aggregate the attack and defense values for each of the player's pokemon from the `pokedex` dictionary.\n",
    "4. Print \"[player name]'s power is [player power].\", where the player power is the sum of the base statistics for all of their pokemon.\n",
    "5. Return the player's power value.\n",
    "\n",
    "Print out the pokemon power for each of your players."
   ]
  },
  {
   "cell_type": "code",
   "execution_count": 20,
   "metadata": {},
   "outputs": [],
   "source": [
    "def player_power(player_id, players_dict=players, pokedex_dict=pokedex):\n",
    "    \n",
    "    # Lookup player's pokemon\n",
    "    pokemon = players_dict[player_id]['player_pokemon']\n",
    "    \n",
    "    # List of values to find the aggregate power\n",
    "    power_values = ['hp', 'attack', 'defense', 'special_attack', 'special_defense', 'speed']\n",
    "    \n",
    "    # Aggregate the attack and defense values for each of the player's pokemon \n",
    "    player_power = sum( j for player, gyms in pokemon.items() for i, j in gyms.items() if i in power_values )\n",
    "    \n",
    "    # Print Player's power\n",
    "    print(players_dict[player_id]['player_name']+\"'s\", \"power is\",  player_power)"
   ]
  },
  {
   "cell_type": "code",
   "execution_count": 21,
   "metadata": {},
   "outputs": [
    {
     "name": "stdout",
     "output_type": "stream",
     "text": [
      "Marc's power is 314\n",
      "Dave's power is 333\n"
     ]
    }
   ],
   "source": [
    "player_power(1)\n",
    "\n",
    "player_power(2)"
   ]
  },
  {
   "cell_type": "markdown",
   "metadata": {},
   "source": [
    "<img src=\"http://imgur.com/l5NasQj.png\" style=\"float: left; margin: 25px 15px 0px 0px; height: 25px\">\n",
    "\n",
    "## 8. Load a pokedex file containing all the pokemon\n",
    "\n",
    "---\n",
    "\n",
    "### 8.1\n",
    "\n",
    "While you were putting together the prototype code, your colleagues were preparing a dataset of Pokemon and their attributes. (This was a rush job, so they may have picked some crazy values for some...)\n",
    "\n",
    "The code below loads information from a comma separated value (csv) file. You need to parse this string into a more useable format. The format of the string is:\n",
    "\n",
    "- Rows are separated by newline characters: \\n\n",
    "- Columns are separated by commas: ,\n",
    "- All cells in the csv are double quoted. Ex: \"PokedexNumber\" is the first cell of the first row.\n",
    "\n",
    "\n",
    "Using for-loops, create a list of lists where each list within the overall list is a row of the csv/matrix, and each element in that list is a cell in that row. Additional criteria:\n",
    "\n",
    "1. Quotes are removed from each cell item.\n",
    "2. Numeric column values are converted to floats.\n",
    "3. There are some cells that are empty and have no information. For these cells put a -1 value in place.\n",
    "\n",
    "Your end result is effectively a matrix. Each list in the outer list is a row, and the *j*th elements of the list together form the *j*th column, which represents a data attribute. The first three lists in your pokedex list should look like this:\n",
    "\n",
    "    ['PokedexNumber', 'Name', 'Type', 'Total', 'HP', 'Attack', 'Defense', 'SpecialAttack', 'SpecialDefense', 'Speed']\n",
    "    [1.0, 'Bulbasaur', 'GrassPoison', 318.0, 45.0, 49.0, 49.0, 65.0, 65.0, 45.0]\n",
    "    [2.0, 'Ivysaur', 'GrassPoison', 405.0, 60.0, 62.0, 63.0, 80.0, 80.0, 60.0]"
   ]
  },
  {
   "cell_type": "code",
   "execution_count": 22,
   "metadata": {},
   "outputs": [],
   "source": [
    "raw_pd = ''\n",
    "pokedex_file = 'pokedex_basic.csv'\n",
    "with open(pokedex_file, 'r') as f:\n",
    "    raw_pd = f.read()"
   ]
  },
  {
   "cell_type": "code",
   "execution_count": 23,
   "metadata": {},
   "outputs": [
    {
     "data": {
      "text/plain": [
       "'\"PokedexNumber\",\"Name\",\"Type\",\"Total\",\"HP\",\"Attack\",\"Defense\",\"SpecialAttack\",\"SpecialDefense\",\"Speed\"\\n\"001\",\"Bulbasaur\",\"GrassPoison\",\"318\",\"45\",\"49\",\"49\",\"65\",\"65\",\"45\"\\n\"002\",\"Ivysaur\",\"GrassPoison\",\"405\",\"60\",\"62\",\"63\",\"80\",\"80\",\"60\"\\n\"003\",\"Venusaur\",\"GrassPoison\",\"525\",\"80\",\"82\",\"83\",\"100\",\"100\",\"80\"\\n\"003\",\"VenusaurMega Venusaur\",\"GrassPoison\",\"625\",\"80\",\"100\",\"123\",\"122\",\"120\",\"80\"\\n\"004\",\"Charmander\",\"Fire\",\"309\",\"39\",\"52\",\"43\",\"60\",\"50\",\"65\"\\n\"005\",\"Charmeleon\",\"Fire\",\"405\",\"58\",\"64\",\"58\",\"80\",\"65\",\"80\"\\n\"006\",\"Charizard\",\"FireFlying\",\"534\",\"78\",\"84\",\"78\",\"109\",\"85\",\"100\"\\n\"006\",\"CharizardMega Charizard X\",\"FireDragon\",\"634\",\"78\",\"130\",\"111\",\"130\",\"85\",\"100\"\\n\"006\",\"CharizardMega Charizard Y\",\"FireFlying\",\"634\",\"78\",\"104\",\"78\",\"159\",\"115\",\"100\"\\n\"007\",\"Squirtle\",\"Water\",\"314\",\"44\",\"48\",\"65\",\"50\",\"64\",\"43\"\\n\"008\",\"Wartortle\",\"Water\",\"405\",\"59\",\"63\",\"80\",\"65\",\"80\",\"58\"\\n\"009\",\"Blastoise\",\"Water\",\"530\",\"79\",\"83\",\"100\",\"85\",\"105\",\"78\"\\n\"009\",\"BlastoiseMega Blastoise\",\"Water\",\"630\",\"79\",\"103\"'"
      ]
     },
     "execution_count": 23,
     "metadata": {},
     "output_type": "execute_result"
    }
   ],
   "source": [
    "raw_pd[0:1000]"
   ]
  },
  {
   "cell_type": "code",
   "execution_count": 24,
   "metadata": {},
   "outputs": [
    {
     "data": {
      "text/plain": [
       "['\"PokedexNumber\",\"Name\",\"Type\",\"Total\",\"HP\",\"Attack\",\"Defense\",\"SpecialAttack\",\"SpecialDefense\",\"Speed\"',\n",
       " '\"001\",\"Bulbasaur\",\"GrassPoison\",\"318\",\"45\",\"49\",\"49\",\"65\",\"65\",\"45\"',\n",
       " '\"002\",\"Ivysaur\",\"GrassPoison\",\"405\",\"60\",\"62\",\"63\",\"80\",\"80\",\"60\"',\n",
       " '\"003\",\"Venusaur\",\"GrassPoison\",\"525\",\"80\",\"82\",\"83\",\"100\",\"100\",\"80\"',\n",
       " '\"003\",\"VenusaurMega Venusaur\",\"GrassPoison\",\"625\",\"80\",\"100\",\"123\",\"122\",\"120\",\"80\"',\n",
       " '\"004\",\"Charmander\",\"Fire\",\"309\",\"39\",\"52\",\"43\",\"60\",\"50\",\"65\"',\n",
       " '\"005\",\"Charmeleon\",\"Fire\",\"405\",\"58\",\"64\",\"58\",\"80\",\"65\",\"80\"',\n",
       " '\"006\",\"Charizard\",\"FireFlying\",\"534\",\"78\",\"84\",\"78\",\"109\",\"85\",\"100\"',\n",
       " '\"006\",\"CharizardMega Charizard X\",\"FireDragon\",\"634\",\"78\",\"130\",\"111\",\"130\",\"85\",\"100\"',\n",
       " '\"006\",\"CharizardMega Charizard Y\",\"FireFlying\",\"634\",\"78\",\"104\",\"78\",\"159\",\"115\",\"100\"']"
      ]
     },
     "execution_count": 24,
     "metadata": {},
     "output_type": "execute_result"
    }
   ],
   "source": [
    "# Split the string into individual rows\n",
    "split_pd = raw_pd.split(\"\\n\")\n",
    "split_pd[0:10]"
   ]
  },
  {
   "cell_type": "code",
   "execution_count": 25,
   "metadata": {},
   "outputs": [],
   "source": [
    "# Loop to create list of lists \n",
    "fixed_pd = []\n",
    "\n",
    "for rows in split_pd:\n",
    "    rows = rows.replace('\"', \"\") # Remove quotes  \n",
    "    rows = rows.split(\",\") # Split rows\n",
    "    \n",
    "    fixed_row = [] # List to hold fixed values\n",
    "    \n",
    "    # Loop throgh rows to make ammends to cells\n",
    "    for el in rows:\n",
    "        \n",
    "        # Convert numeric values to floats\n",
    "        if el.isdigit():\n",
    "            el = float(el)\n",
    "            fixed_row.append(el)            \n",
    "        else:\n",
    "            fixed_row.append(el)\n",
    "\n",
    "        # Replace empty cells value with -1\n",
    "        if el == '':\n",
    "            el = -1\n",
    "            fixed_row.append(el)\n",
    "            \n",
    "    fixed_pd.append(fixed_row)"
   ]
  },
  {
   "cell_type": "code",
   "execution_count": 26,
   "metadata": {},
   "outputs": [
    {
     "data": {
      "text/plain": [
       "[['PokedexNumber',\n",
       "  'Name',\n",
       "  'Type',\n",
       "  'Total',\n",
       "  'HP',\n",
       "  'Attack',\n",
       "  'Defense',\n",
       "  'SpecialAttack',\n",
       "  'SpecialDefense',\n",
       "  'Speed'],\n",
       " [1.0, 'Bulbasaur', 'GrassPoison', 318.0, 45.0, 49.0, 49.0, 65.0, 65.0, 45.0],\n",
       " [2.0, 'Ivysaur', 'GrassPoison', 405.0, 60.0, 62.0, 63.0, 80.0, 80.0, 60.0],\n",
       " [3.0, 'Venusaur', 'GrassPoison', 525.0, 80.0, 82.0, 83.0, 100.0, 100.0, 80.0],\n",
       " [3.0,\n",
       "  'VenusaurMega Venusaur',\n",
       "  'GrassPoison',\n",
       "  625.0,\n",
       "  80.0,\n",
       "  100.0,\n",
       "  123.0,\n",
       "  122.0,\n",
       "  120.0,\n",
       "  80.0],\n",
       " [4.0, 'Charmander', 'Fire', 309.0, 39.0, 52.0, 43.0, 60.0, 50.0, 65.0],\n",
       " [5.0, 'Charmeleon', 'Fire', 405.0, 58.0, 64.0, 58.0, 80.0, 65.0, 80.0],\n",
       " [6.0, 'Charizard', 'FireFlying', 534.0, 78.0, 84.0, 78.0, 109.0, 85.0, 100.0],\n",
       " [6.0,\n",
       "  'CharizardMega Charizard X',\n",
       "  'FireDragon',\n",
       "  634.0,\n",
       "  78.0,\n",
       "  130.0,\n",
       "  111.0,\n",
       "  130.0,\n",
       "  85.0,\n",
       "  100.0],\n",
       " [6.0,\n",
       "  'CharizardMega Charizard Y',\n",
       "  'FireFlying',\n",
       "  634.0,\n",
       "  78.0,\n",
       "  104.0,\n",
       "  78.0,\n",
       "  159.0,\n",
       "  115.0,\n",
       "  100.0]]"
      ]
     },
     "execution_count": 26,
     "metadata": {},
     "output_type": "execute_result"
    }
   ],
   "source": [
    "fixed_pd[:10]"
   ]
  },
  {
   "cell_type": "markdown",
   "metadata": {},
   "source": [
    "<img src=\"http://imgur.com/xDpSobf.png\" style=\"float: left; margin: 25px 15px 0px 0px; height: 25px\">\n",
    "\n",
    "### 8.2 Parse the raw pokedex with list comprehensions\n",
    "\n",
    "---\n",
    "\n",
    "Perform the same parsing as above, but **using only a single list comprehension** instead of for loops. You may have nested list comprehensions within the main list comprehension! The output should be exactly the same."
   ]
  },
  {
   "cell_type": "code",
   "execution_count": 27,
   "metadata": {},
   "outputs": [
    {
     "data": {
      "text/plain": [
       "[['PokedexNumber',\n",
       "  'Name',\n",
       "  'Type',\n",
       "  'Total',\n",
       "  'HP',\n",
       "  'Attack',\n",
       "  'Defense',\n",
       "  'SpecialAttack',\n",
       "  'SpecialDefense',\n",
       "  'Speed'],\n",
       " [1.0, 'Bulbasaur', 'GrassPoison', 318.0, 45.0, 49.0, 49.0, 65.0, 65.0, 45.0],\n",
       " [2.0, 'Ivysaur', 'GrassPoison', 405.0, 60.0, 62.0, 63.0, 80.0, 80.0, 60.0],\n",
       " [3.0, 'Venusaur', 'GrassPoison', 525.0, 80.0, 82.0, 83.0, 100.0, 100.0, 80.0],\n",
       " [3.0,\n",
       "  'VenusaurMega Venusaur',\n",
       "  'GrassPoison',\n",
       "  625.0,\n",
       "  80.0,\n",
       "  100.0,\n",
       "  123.0,\n",
       "  122.0,\n",
       "  120.0,\n",
       "  80.0],\n",
       " [4.0, 'Charmander', 'Fire', 309.0, 39.0, 52.0, 43.0, 60.0, 50.0, 65.0],\n",
       " [5.0, 'Charmeleon', 'Fire', 405.0, 58.0, 64.0, 58.0, 80.0, 65.0, 80.0],\n",
       " [6.0, 'Charizard', 'FireFlying', 534.0, 78.0, 84.0, 78.0, 109.0, 85.0, 100.0],\n",
       " [6.0,\n",
       "  'CharizardMega Charizard X',\n",
       "  'FireDragon',\n",
       "  634.0,\n",
       "  78.0,\n",
       "  130.0,\n",
       "  111.0,\n",
       "  130.0,\n",
       "  85.0,\n",
       "  100.0],\n",
       " [6.0,\n",
       "  'CharizardMega Charizard Y',\n",
       "  'FireFlying',\n",
       "  634.0,\n",
       "  78.0,\n",
       "  104.0,\n",
       "  78.0,\n",
       "  159.0,\n",
       "  115.0,\n",
       "  100.0]]"
      ]
     },
     "execution_count": 27,
     "metadata": {},
     "output_type": "execute_result"
    }
   ],
   "source": [
    "#\n",
    "[[float(s) if s.isdigit() else -1 if s == '' else s \n",
    "  for s in line.replace('\"', '').split(',')] \n",
    " for line in split_pd][:10]"
   ]
  },
  {
   "cell_type": "markdown",
   "metadata": {},
   "source": [
    "<img src=\"http://imgur.com/l5NasQj.png\" style=\"float: left; margin: 25px 15px 0px 0px; height: 25px\">\n",
    "\n",
    "## 9. Write a function to generate the full pokedex\n",
    "\n",
    "---\n",
    "\n",
    "Write a function that recreates the pokedex you made before, but with the data read in from the full pokemon file. Create a unique key value for each entry in the pokemon dictionary.\n",
    "\n",
    "Your function should:\n",
    "\n",
    "1. Take the parsed pokedex information you created above as an argument.\n",
    "2. Return a dictionary in the same format as your original pokedex you created before containing the information from the parsed full pokedex file.\n",
    "\n",
    "To test the function, print out the pokemon with id = 100."
   ]
  },
  {
   "cell_type": "code",
   "execution_count": 30,
   "metadata": {
    "scrolled": true
   },
   "outputs": [],
   "source": [
    "# Function to generate full pokedex\n",
    "def full_pokedex(fixed_pd):\n",
    "   \n",
    "    header = fixed_pd[0]\n",
    "    data = fixed_pd[1:]\n",
    "    full_pokedex = {}\n",
    "    \n",
    "    # Re-index the PokedexNumber due to duplicatation to prevent data loss.\n",
    "    for i, raw in enumerate(data):\n",
    "        raw[0] = float(i+1)\n",
    "\n",
    "    # Create dictionary.\n",
    "    for raw in data:\n",
    "        pokemon_stat = {}\n",
    "        for i, stat in enumerate(raw[1:]):\n",
    "            pokemon_stat[header[i+1]] = raw[i+1]\n",
    "        full_pokedex[raw[0]] = pokemon_stat\n",
    "    return full_pokedex"
   ]
  },
  {
   "cell_type": "code",
   "execution_count": 31,
   "metadata": {},
   "outputs": [],
   "source": [
    "# Check no data loss.\n",
    "assert len(fixed_pd[1:]) == len(full_pokedex(fixed_pd))"
   ]
  },
  {
   "cell_type": "code",
   "execution_count": 32,
   "metadata": {},
   "outputs": [
    {
     "data": {
      "text/plain": [
       "[200.0, 'Azumarill', 'WaterFairy', 420.0, 100.0, 50.0, 80.0, 60.0, 80.0, 50.0]"
      ]
     },
     "execution_count": 32,
     "metadata": {},
     "output_type": "execute_result"
    }
   ],
   "source": [
    "# Check raw data.\n",
    "fixed_pd[200]"
   ]
  },
  {
   "cell_type": "code",
   "execution_count": 33,
   "metadata": {},
   "outputs": [
    {
     "data": {
      "text/plain": [
       "{'Name': 'Azumarill',\n",
       " 'Type': 'WaterFairy',\n",
       " 'Total': 420.0,\n",
       " 'HP': 100.0,\n",
       " 'Attack': 50.0,\n",
       " 'Defense': 80.0,\n",
       " 'SpecialAttack': 60.0,\n",
       " 'SpecialDefense': 80.0,\n",
       " 'Speed': 50.0}"
      ]
     },
     "execution_count": 33,
     "metadata": {},
     "output_type": "execute_result"
    }
   ],
   "source": [
    "# Check raw data in dictionary.\n",
    "full_pokedex(fixed_pd)[200]"
   ]
  },
  {
   "cell_type": "markdown",
   "metadata": {},
   "source": [
    "<img src=\"http://i.imgur.com/GCAf1UX.png\" style=\"float: left; margin: 25px 15px 0px 0px; height: 25px\">\n",
    "\n",
    "## 10. Write a function to generate a \"filtered\" pokedex\n",
    "---\n",
    "Your function should:\n",
    "1. Take the parsed pokedex information you created above as an argument.\n",
    "1. Take a dictionary as a parameter with keys matching the features of the Pokedex, filtering by exact match for string type values, and/or filter continuous variables specified by a value that is greater than or equal to the value of the corresponding dictionary key parameter.\n",
    "1. Return multiple elements from the Pokedex\n",
    "\n",
    "Example:\n",
    "\n",
    "```python\n",
    "\n",
    "# Only filter based on parameters passed\n",
    "filter_options = {\n",
    "    'Attack':   25,\n",
    "    'Defense':  30,\n",
    "    'Type':     'Electric'\n",
    "}\n",
    "\n",
    "# Return records with attack >= 25, defense >= 30, and type == \"Electric\"\n",
    "# Also anticipate that other paramters can also be passed such as \"SpecialAttack\", \"Speed\", etc.\n",
    "filtered_pokedex(pokedex_data, filter=filter_options)\n",
    "\n",
    "# Example output:\n",
    "# [{'Attack': 30.0,\n",
    "#  'Defense': 50.0,\n",
    "#  'HP': 40.0,\n",
    "#  'Name': 'Voltorb',\n",
    "#  'SpecialAttack': 55.0,\n",
    "#  'SpecialDefense': 55.0,\n",
    "#  'Speed': 100.0,\n",
    "#  'Total': 330.0,\n",
    "#  'Type': 'Electric'},\n",
    "#  {'Attack': 30.0,\n",
    "#  'Defense': 33.0,\n",
    "#  'HP': 32.0,\n",
    "#  'Name': 'Pikachu',\n",
    "#  'SpecialAttack': 55.0,\n",
    "#  'SpecialDefense': 55.0,\n",
    "#  'Speed': 100.0,\n",
    "#  'Total': 330.0,\n",
    "#  'Type': 'Electric'},\n",
    "#  ... etc\n",
    "#  ]\n",
    "\n",
    "```\n",
    "\n"
   ]
  },
  {
   "cell_type": "code",
   "execution_count": 34,
   "metadata": {},
   "outputs": [],
   "source": [
    "def pokefilter(fixed_pd, filterdict):\n",
    "    \n",
    "    pokelist = []\n",
    "    \n",
    "    for r in fixed_pd:\n",
    "        \n",
    "        check = {}\n",
    "        \n",
    "        for attr, val in filterdict.items():\n",
    "            \n",
    "            i = fixed_pd[0].index(attr)\n",
    "            \n",
    "            if type(val) == str and type(r[i]) == str and r[i] == val:\n",
    "                \n",
    "                check[attr] = True\n",
    "                \n",
    "            elif type(val) != str and type(r[i]) != str and r[i] >= val:\n",
    "                \n",
    "                check[attr] = True\n",
    "                \n",
    "            else:\n",
    "                \n",
    "                check[attr] = False\n",
    "                \n",
    "        if False not in check.values():\n",
    "            \n",
    "            pokedict = {}\n",
    "            \n",
    "            for a, b in enumerate(fixed_pd[0]):\n",
    "                \n",
    "                pokedict[b] = r[a]\n",
    "                \n",
    "            pokelist.append(pokedict)\n",
    "    \n",
    "            \n",
    "    \n",
    "    return pokelist"
   ]
  },
  {
   "cell_type": "code",
   "execution_count": 35,
   "metadata": {},
   "outputs": [
    {
     "data": {
      "text/plain": [
       "{'PokedexNumber': 518.0,\n",
       " 'Name': 'Electivire',\n",
       " 'Type': 'Electric',\n",
       " 'Total': 540.0,\n",
       " 'HP': 75.0,\n",
       " 'Attack': 123.0,\n",
       " 'Defense': 67.0,\n",
       " 'SpecialAttack': 95.0,\n",
       " 'SpecialDefense': 85.0,\n",
       " 'Speed': 95.0}"
      ]
     },
     "execution_count": 35,
     "metadata": {},
     "output_type": "execute_result"
    }
   ],
   "source": [
    "filterdict = {\n",
    "    'Attack':   25,\n",
    "    'Defense':  30,\n",
    "    'Type':     'Electric'\n",
    "}\n",
    "\n",
    "pokefilter(fixed_pd, filterdict)[20]"
   ]
  },
  {
   "cell_type": "markdown",
   "metadata": {},
   "source": [
    "\n",
    "## 11. Descriptive statistics on the prototype pokedex\n",
    "\n",
    "<img src=\"http://imgur.com/l5NasQj.png\" style=\"float: left; margin: 25px 15px 0px 0px; height: 25px\">\n",
    "\n",
    "### 11.1\n",
    "\n",
    "What is the population mean and standard deviation of the \"Total\" attribute for all characters in the Pokedex?\n",
    "\n"
   ]
  },
  {
   "cell_type": "code",
   "execution_count": 37,
   "metadata": {},
   "outputs": [
    {
     "name": "stdout",
     "output_type": "stream",
     "text": [
      "population mean:    435.1275\n",
      "Standard deviation: 119.9620\n"
     ]
    }
   ],
   "source": [
    "# Convert 'Total' to list.\n",
    "pokedex = full_pokedex(fixed_pd)\n",
    "total = [v['Total'] for k, v in pokedex.items()]\n",
    "\n",
    "# Calculate mean and standard deviation.\n",
    "mean = np.mean(total)\n",
    "std = np.std(total)\n",
    "print('population mean: {:11}\\nStandard deviation: {:.4f}'.format(mean, std))"
   ]
  },
  {
   "cell_type": "markdown",
   "metadata": {},
   "source": [
    "<img src=\"http://imgur.com/l5NasQj.png\" style=\"float: left; margin: 25px 15px 0px 0px; height: 25px\">\n",
    "\n",
    "### 11.2\n",
    "\n",
    "The game is no fun if the characters are wildly unbalanced! Are any characters \"overpowered\", which we'll define as having a \"Total\" more than three standard deviations from the population mean?"
   ]
  },
  {
   "cell_type": "code",
   "execution_count": 38,
   "metadata": {},
   "outputs": [
    {
     "name": "stdout",
     "output_type": "stream",
     "text": [
      "No. of \"overpowered\" pokemon: 1\n",
      "\n",
      "{164.0: {'Attack': 190.0,\n",
      "         'Defense': 100.0,\n",
      "         'HP': 126.0,\n",
      "         'Name': 'MewtwoMega Mewtwo X',\n",
      "         'SpecialAttack': 154.0,\n",
      "         'SpecialDefense': 100.0,\n",
      "         'Speed': 130.0,\n",
      "         'Total': 800.0,\n",
      "         'Type': 'PsychicFighting'}}\n"
     ]
    }
   ],
   "source": [
    "# Filter overpowered pokemon from pokedex.\n",
    "overpowered = {k: v for k, v in pokedex.items() if v['Total'] > (mean + 3*std)}\n",
    "print('No. of \"overpowered\" pokemon: %s\\n' %(len(overpowered)))\n",
    "pprint(overpowered)"
   ]
  },
  {
   "cell_type": "markdown",
   "metadata": {},
   "source": [
    "<img src=\"http://imgur.com/xDpSobf.png\" style=\"float: left; margin: 25px 15px 0px 0px; height: 25px\">\n",
    "\n",
    "## 12. Calibrate the frequency of Pokemon\n",
    "\n",
    "The design team wants you to make the powerful Pokemon rare, and the weaklings more common. How would you set the probability $p_i$ of finding Pokemon *i* each time a player visits a gym?\n",
    "\n",
    "Write a function that takes in a Pokedex number and returns a value $p_i$ for that character.\n",
    "\n",
    "Hint: there are many ways you could do this. What do _you_ think makes sense? Start with simplifying assumptions: for example, you could assume that the probabilities of encountering any two Pokemon on one visit to a gym are independent of each other."
   ]
  },
  {
   "cell_type": "code",
   "execution_count": 40,
   "metadata": {},
   "outputs": [],
   "source": [
    "def rare_pokemon( pokemon_number, pokedex = fixed_pd ):\n",
    "    \n",
    "    total_attributes = [ info[3] for info in pokedex[1::] ]\n",
    "    \n",
    "    total_mean = np.mean(total_attributes)\n",
    "    total_std = np.std(total_attributes)\n",
    "    \n",
    "    pokemon_total = pokedex[pokemon_number][3]\n",
    "    \n",
    "    # distance from mean, the (positive) distance between x and zero.\n",
    "    difference = abs(pokemon_total - total_mean)\n",
    "    \n",
    "    multplier = difference / total_std\n",
    "    # print multplier\n",
    "    interval = total_mean / total_std\n",
    "    # print interval\n",
    "    probabiity_std = 0.5 / interval\n",
    "    # print probabiity_std\n",
    "\n",
    "    \n",
    "    # Check if higher or lower than mean\n",
    "    if pokemon_total >= total_mean:\n",
    "        Probability = 0.5 - (probabiity_std * multplier)\n",
    "    else:\n",
    "        Probability = 0.5 + (probabiity_std * multplier)\n",
    "    return Probability"
   ]
  },
  {
   "cell_type": "code",
   "execution_count": 49,
   "metadata": {},
   "outputs": [
    {
     "data": {
      "text/plain": [
       "0.546110048204262"
      ]
     },
     "execution_count": 49,
     "metadata": {},
     "output_type": "execute_result"
    }
   ],
   "source": [
    "rare_pokemon(50)"
   ]
  }
 ],
 "metadata": {
  "anaconda-cloud": {},
  "kernelspec": {
   "display_name": "Python 3 (ipykernel)",
   "language": "python",
   "name": "python3"
  },
  "language_info": {
   "codemirror_mode": {
    "name": "ipython",
    "version": 3
   },
   "file_extension": ".py",
   "mimetype": "text/x-python",
   "name": "python",
   "nbconvert_exporter": "python",
   "pygments_lexer": "ipython3",
   "version": "3.9.7"
  },
  "toc": {
   "base_numbering": 1,
   "nav_menu": {
    "height": "159px",
    "width": "264px"
   },
   "number_sections": false,
   "sideBar": true,
   "skip_h1_title": true,
   "title_cell": "Table of Contents",
   "title_sidebar": "Contents",
   "toc_cell": true,
   "toc_position": {},
   "toc_section_display": "block",
   "toc_window_display": false
  }
 },
 "nbformat": 4,
 "nbformat_minor": 4
}
